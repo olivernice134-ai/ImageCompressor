{
 "cells": [
  {
   "cell_type": "code",
   "execution_count": 1,
   "id": "9e471e1c",
   "metadata": {},
   "outputs": [],
   "source": [
    "import os\n",
    "import cv2\n",
    "import numpy as np\n",
    "from sklearn.cluster import KMeans"
   ]
  },
  {
   "cell_type": "markdown",
   "id": "73f48656",
   "metadata": {},
   "source": [
    "Input and output folders"
   ]
  },
  {
   "cell_type": "code",
   "execution_count": 2,
   "id": "60973f7f",
   "metadata": {},
   "outputs": [],
   "source": [
    "input_folder = \"images\"\n",
    "output_folder = \"compressed_images\"\n",
    "os.makedirs(output_folder, exist_ok=True)"
   ]
  },
  {
   "cell_type": "markdown",
   "id": "12f2e6c2",
   "metadata": {},
   "source": [
    "Parameters"
   ]
  },
  {
   "cell_type": "markdown",
   "id": "a1e0a3fb",
   "metadata": {},
   "source": [
    "Loop through all image files in the folder, Prepare data for K-Means, Apply K-Means and Save compressed image "
   ]
  },
  {
   "cell_type": "code",
   "execution_count": 3,
   "id": "39701ed6",
   "metadata": {},
   "outputs": [
    {
     "name": "stdout",
     "output_type": "stream",
     "text": [
      "Compressed image1.png → compressed_images\\compressed_image1.png\n",
      "Compressed image2.png → compressed_images\\compressed_image2.png\n",
      "Compressed image3.png → compressed_images\\compressed_image3.png\n"
     ]
    }
   ],
   "source": [
    "resize_width = 256  \n",
    "k = 16 \n",
    "\n",
    "for filename in os.listdir(input_folder):\n",
    "    if filename.lower().endswith((\".png\", \".png\", \".png\")):\n",
    "        image_path = os.path.join(input_folder, filename)\n",
    "        image = cv2.imread(image_path)\n",
    "        if image is None:\n",
    "            print(f\"Failed to read: {filename}\")\n",
    "            continue\n",
    "\n",
    "        image = cv2.cvtColor(image, cv2.COLOR_BGR2RGB)\n",
    "        image = cv2.resize(image, (resize_width, resize_width))\n",
    "\n",
    "        pixel_values = image.reshape((-1, 3)).astype(np.float16)\n",
    "\n",
    "        kmeans = KMeans(n_clusters=k, random_state=0)\n",
    "        labels = kmeans.fit_predict(pixel_values)\n",
    "        centers = np.uint8(kmeans.cluster_centers_)\n",
    "        compressed = centers[labels.flatten()].reshape(image.shape)\n",
    "\n",
    "        output_path = os.path.join(output_folder, f\"compressed_{filename}\")\n",
    "        cv2.imwrite(output_path, cv2.cvtColor(compressed, cv2.COLOR_RGB2BGR))\n",
    "\n",
    "        print(f\"Compressed {filename} → {output_path}\")\n",
    "\n",
    "        "
   ]
  }
 ],
 "metadata": {
  "kernelspec": {
   "display_name": "Python 3",
   "language": "python",
   "name": "python3"
  },
  "language_info": {
   "codemirror_mode": {
    "name": "ipython",
    "version": 3
   },
   "file_extension": ".py",
   "mimetype": "text/x-python",
   "name": "python",
   "nbconvert_exporter": "python",
   "pygments_lexer": "ipython3",
   "version": "3.10.9"
  }
 },
 "nbformat": 4,
 "nbformat_minor": 5
}
